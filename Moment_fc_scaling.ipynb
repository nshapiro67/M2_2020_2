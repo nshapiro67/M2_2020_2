{
 "cells": [
  {
   "cell_type": "markdown",
   "metadata": {},
   "source": [
    "### Plotting seismic moment and corner frequency to compare with the \"standard\" scaling law\n",
    "\n",
    "- results of Prieto et al. (2004) are shown with a solid blue line\n",
    "- dotted line shows extrapolation to a broader range of seismic moments\n",
    "- orange circles show results for 2 Nevada earthquakes seen in the class\n",
    "- red star shows your results introduced in the beginning of the script"
   ]
  },
  {
   "cell_type": "code",
   "execution_count": 14,
   "metadata": {},
   "outputs": [
    {
     "data": {
      "application/vnd.jupyter.widget-view+json": {
       "model_id": "1e59a547cc6741ec961293744746ff0f",
       "version_major": 2,
       "version_minor": 0
      },
      "text/plain": [
       "Canvas(toolbar=Toolbar(toolitems=[('Home', 'Reset original view', 'home', 'home'), ('Back', 'Back to previous …"
      ]
     },
     "metadata": {},
     "output_type": "display_data"
    }
   ],
   "source": [
    "#------------------------ importing basic packages\n",
    "import matplotlib.pyplot as plt\n",
    "import numpy as np\n",
    "\n",
    "#------------------ plotting mode\n",
    "%matplotlib widget\n",
    "#----------------------------\n",
    "plt.close('all')\n",
    "#------------------\n",
    "\n",
    "\n",
    "#==================   !!! Introduce your results here:\n",
    "Moment = 1e18\n",
    "corner_frequency = 0.4\n",
    "\n",
    "\n",
    "\n",
    "\n",
    "\n",
    "\n",
    "Mmin = 1e11\n",
    "Mmax = 1e21\n",
    "\n",
    "#----------------- line from Prieto et al. (2004)\n",
    "Mp = np.zeros(2)\n",
    "\n",
    "Mp[0] = 4e11\n",
    "Mp[1] = 2e14\n",
    "\n",
    "fp = np.zeros(2)\n",
    "\n",
    "fp[0] = 30.\n",
    "\n",
    "fp[1] = fp[0]*(Mp[1]/Mp[0])**(-1/3)\n",
    "\n",
    "#---------------- extrapolation of the Prieto results\n",
    "\n",
    "Mf = Mp.copy()\n",
    "ff = fp.copy()\n",
    "\n",
    "Mf[0] = Mmin\n",
    "Mf[1] = Mmax\n",
    "ff[0] = fp[0]*(Mf[0]/Mp[0])**(-1/3)\n",
    "ff[1] = fp[0]*(Mf[1]/Mp[0])**(-1/3)\n",
    "\n",
    "\n",
    "\n",
    "#----------------- results for 2 earthquakes in Nevada (seen during the class)\n",
    "Mo = np.zeros(2)\n",
    "fo = np.zeros(2)\n",
    "\n",
    "Mo[0] = 6.52138441475e+18\n",
    "Mo[1] = 2.62885505023e+16\n",
    "\n",
    "fo[0] = .11\n",
    "fo[1] = .8\n",
    "\n",
    "\n",
    "\n",
    "plt.figure()\n",
    "plt.loglog(Mf,ff,'k:')\n",
    "plt.loglog(Mp,fp,linewidth=3)\n",
    "plt.loglog(Mo,fo,'o')\n",
    "plt.loglog(Moment,corner_frequency,'r*',ms=10)\n",
    "plt.ylabel('corner frequency (Hz)')\n",
    "plt.xlabel('seismic moment (N m)')\n",
    "plt.show()"
   ]
  },
  {
   "cell_type": "code",
   "execution_count": null,
   "metadata": {},
   "outputs": [],
   "source": []
  }
 ],
 "metadata": {
  "kernelspec": {
   "display_name": "Python 3",
   "language": "python",
   "name": "python3"
  },
  "language_info": {
   "codemirror_mode": {
    "name": "ipython",
    "version": 3
   },
   "file_extension": ".py",
   "mimetype": "text/x-python",
   "name": "python",
   "nbconvert_exporter": "python",
   "pygments_lexer": "ipython3",
   "version": "3.8.3"
  }
 },
 "nbformat": 4,
 "nbformat_minor": 4
}
